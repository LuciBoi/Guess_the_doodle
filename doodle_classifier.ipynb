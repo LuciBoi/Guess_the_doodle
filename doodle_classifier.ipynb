{
  "nbformat": 4,
  "nbformat_minor": 0,
  "metadata": {
    "colab": {
      "name": "doodle_classifier.ipynb",
      "version": "0.3.2",
      "provenance": [],
      "collapsed_sections": [],
      "toc_visible": true
    },
    "kernelspec": {
      "name": "python3",
      "display_name": "Python 3"
    },
    "accelerator": "GPU"
  },
  "cells": [
    {
      "metadata": {
        "id": "Az4owlVlWyUa",
        "colab_type": "code",
        "colab": {}
      },
      "cell_type": "code",
      "source": [
        "## Load the Drive helper and mount\n",
        "from google.colab import drive\n",
        "\n",
        "## This will prompt for authorization.\n",
        "drive.mount('/content/drive')"
      ],
      "execution_count": 0,
      "outputs": []
    },
    {
      "metadata": {
        "id": "Nmzw1fIfW1vi",
        "colab_type": "code",
        "colab": {}
      },
      "cell_type": "code",
      "source": [
        "## Set the preferred path\n",
        "%cd drive/My' 'Drive/Google' 'Colab"
      ],
      "execution_count": 0,
      "outputs": []
    },
    {
      "metadata": {
        "id": "CGNQK1OcXfrK",
        "colab_type": "code",
        "colab": {}
      },
      "cell_type": "code",
      "source": [
        "## Read and display the output classes\n",
        "f = open (\"classes\", \"r\")\n",
        "out_classes = f.readlines()\n",
        "f.close()\n",
        "for i in range(0, len(out_classes)):\n",
        "  out_classes[i] = out_classes[i].replace('\\n', '').replace(' ', '_')\n",
        "print(out_classes)"
      ],
      "execution_count": 0,
      "outputs": []
    },
    {
      "metadata": {
        "id": "L3SU1q86aA1W",
        "colab_type": "code",
        "colab": {}
      },
      "cell_type": "code",
      "source": [
        "## Define a function to fetch the dataset\n",
        "def obtain_dataset():\n",
        "  \n",
        "  import urllib.request\n",
        "  base_url = \"https://storage.googleapis.com/quickdraw_dataset/full/numpy_bitmap/\"\n",
        "  extensions = [''] * len(out_classes)\n",
        "  \n",
        "  for i in range(0, len(out_classes)):\n",
        "    ## Create URL\n",
        "    extensions[i] = out_classes[i].replace('_', '%20')\n",
        "    extensions[i] = extensions[i] + \".npy\"\n",
        "    url = base_url + extensions[i]\n",
        "    ## Fetch...\n",
        "    print (\"downloading \" + url + \" ...\" )\n",
        "    urllib.request.urlretrieve(url, \"dataset/\" + out_classes[i] + \".npy\")"
      ],
      "execution_count": 0,
      "outputs": []
    },
    {
      "metadata": {
        "id": "K69OWpEHnk71",
        "colab_type": "code",
        "colab": {}
      },
      "cell_type": "code",
      "source": [
        "## Fetch the dataset\n",
        "obtain_dataset()"
      ],
      "execution_count": 0,
      "outputs": []
    },
    {
      "metadata": {
        "id": "5yIsooRa09cW",
        "colab_type": "code",
        "colab": {}
      },
      "cell_type": "code",
      "source": [
        "import numpy as np\n",
        "import tensorflow as tf\n",
        "import matplotlib.pyplot as plt\n",
        "from tensorflow import keras\n",
        "from tensorflow.keras import layers"
      ],
      "execution_count": 0,
      "outputs": []
    },
    {
      "metadata": {
        "id": "LsOhxu9W6sNn",
        "colab_type": "code",
        "colab": {}
      },
      "cell_type": "code",
      "source": [
        "%cd dataset\n",
        "print (\"\\n\")\n",
        "%ls"
      ],
      "execution_count": 0,
      "outputs": []
    },
    {
      "metadata": {
        "id": "Of6bSfv67fRI",
        "colab_type": "code",
        "colab": {}
      },
      "cell_type": "code",
      "source": [
        "def load_dataset():\n",
        "  ## Initialize variables\n",
        "  x = np.empty([0, 784])\n",
        "  y = np.empty([0, 1])\n",
        "  images_per_class = 18000\n",
        "  test_set_size = 10000\n",
        "  \n",
        "  ## Load the dataset\n",
        "  for i in range(0, len(out_classes)):\n",
        "    file = np.load((out_classes[i] + \".npy\")) # Load images of a given doodle\n",
        "    file = file[0 : images_per_class, :]      # Select the first 18000 images\n",
        "    labels = np.full((file.shape[0], 1), i)\n",
        "    \n",
        "    x = np.concatenate((x, file), axis = 0)\n",
        "    y = np.concatenate((y, labels), axis = 0)\n",
        "  \n",
        "  ## Randomise the dataset\n",
        "  order = np.random.permutation(y.shape[0])\n",
        "  x = x[order, :]\n",
        "  y = y[order, :]\n",
        "  \n",
        "  ## Split the data\n",
        "  X_test = x[0 : test_set_size, :]\n",
        "  Y_test = y[0 : test_set_size, :]\n",
        "  X_train = x[test_set_size : x.shape[0], :]\n",
        "  Y_train = y[test_set_size : y.shape[0], :]\n",
        "  \n",
        "  return X_train, Y_train, X_test, Y_test"
      ],
      "execution_count": 0,
      "outputs": []
    },
    {
      "metadata": {
        "id": "mDIuF8BzPPXq",
        "colab_type": "code",
        "colab": {}
      },
      "cell_type": "code",
      "source": [
        "## Load the dataset\n",
        "X_train, Y_train, X_test, Y_test = load_dataset()"
      ],
      "execution_count": 0,
      "outputs": []
    },
    {
      "metadata": {
        "id": "y6pwSLP_Z717",
        "colab_type": "code",
        "colab": {}
      },
      "cell_type": "code",
      "source": [
        "## Perform sanity check\n",
        "print(X_train.shape)\n",
        "print(Y_train.shape)\n",
        "print(X_test.shape)\n",
        "print(Y_test.shape)"
      ],
      "execution_count": 0,
      "outputs": []
    },
    {
      "metadata": {
        "id": "LL2OnWgobrS-",
        "colab_type": "code",
        "colab": {
          "base_uri": "https://localhost:8080/",
          "height": 364
        },
        "outputId": "2589afad-4c9a-4627-9193-78a355922ad3"
      },
      "cell_type": "code",
      "source": [
        "## Print an image\n",
        "ind = 4500\n",
        "plt.imshow(X_train[ind].reshape(28,28)) \n",
        "print(out_classes[int(Y_train[ind].item())])"
      ],
      "execution_count": 73,
      "outputs": [
        {
          "output_type": "stream",
          "text": [
            "ladder\n"
          ],
          "name": "stdout"
        },
        {
          "output_type": "display_data",
          "data": {
            "image/png": "[encoded data removed]",
            "text/plain": [
              "<matplotlib.figure.Figure at 0x7f2ec754c7b8>"
            ]
          },
          "metadata": {
            "tags": []
          }
        }
      ]
    },
    {
      "metadata": {
        "id": "JkYEKJuQcajH",
        "colab_type": "code",
        "colab": {}
      },
      "cell_type": "code",
      "source": [
        ""
      ],
      "execution_count": 0,
      "outputs": []
    }
  ]
}