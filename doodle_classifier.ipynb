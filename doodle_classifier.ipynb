{
  "nbformat": 4,
  "nbformat_minor": 0,
  "metadata": {
    "colab": {
      "name": "doodle_classifier.ipynb",
      "version": "0.3.2",
      "provenance": [],
      "collapsed_sections": [],
      "toc_visible": true
    },
    "kernelspec": {
      "name": "python3",
      "display_name": "Python 3"
    },
    "accelerator": "GPU"
  },
  "cells": [
    {
      "metadata": {
        "id": "Az4owlVlWyUa",
        "colab_type": "code",
        "colab": {}
      },
      "cell_type": "code",
      "source": [
        "## Load the Drive helper and mount\n",
        "from google.colab import drive\n",
        "\n",
        "## This will prompt for authorization.\n",
        "drive.mount('/content/drive')"
      ],
      "execution_count": 0,
      "outputs": []
    },
    {
      "metadata": {
        "id": "Nmzw1fIfW1vi",
        "colab_type": "code",
        "colab": {}
      },
      "cell_type": "code",
      "source": [
        "## Set the preferred path\n",
        "cd drive/My' 'Drive/Google' 'Colab"
      ],
      "execution_count": 0,
      "outputs": []
    },
    {
      "metadata": {
        "id": "CGNQK1OcXfrK",
        "colab_type": "code",
        "colab": {}
      },
      "cell_type": "code",
      "source": [
        "## Read and display the output classes\n",
        "f = open (\"classes\", \"r\")\n",
        "out_classes = f.readlines()\n",
        "f.close()\n",
        "print(out_classes)"
      ],
      "execution_count": 0,
      "outputs": []
    },
    {
      "metadata": {
        "id": "L3SU1q86aA1W",
        "colab_type": "code",
        "colab": {}
      },
      "cell_type": "code",
      "source": [
        "## Define a function to fetch the dataset\n",
        "def obtain_dataset():\n",
        "  \n",
        "  import urllib.request\n",
        "  base_url = \"https://storage.googleapis.com/quickdraw_dataset/full/numpy_bitmap/\"\n",
        "  extensions = [''] * len(out_classes)\n",
        "  \n",
        "  for i in range(0, len(out_classes)):\n",
        "    out_classes[i] = out_classes[i].replace('\\n', '').replace(' ', '_')\n",
        "    ## Create URL\n",
        "    extensions[i] = out_classes[i].replace('_', '%20')\n",
        "    extensions[i] = extensions[i] + \".npy\"\n",
        "    url = base_url + extensions[i]\n",
        "    ## Fetch...\n",
        "    print (\"downloading \" + url + \" ...\" )\n",
        "    urllib.request.urlretrieve(url, \"dataset/\" + out_classes[i] + \".npy\")"
      ],
      "execution_count": 0,
      "outputs": []
    },
    {
      "metadata": {
        "id": "K69OWpEHnk71",
        "colab_type": "code",
        "colab": {}
      },
      "cell_type": "code",
      "source": [
        "## Fetch the dataset\n",
        "obtain_dataset()"
      ],
      "execution_count": 0,
      "outputs": []
    }
  ]
}